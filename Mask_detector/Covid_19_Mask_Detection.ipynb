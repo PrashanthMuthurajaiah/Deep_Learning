{
  "nbformat": 4,
  "nbformat_minor": 0,
  "metadata": {
    "colab": {
      "name": "Covid_19_Mask_Detection.ipynb",
      "provenance": [],
      "collapsed_sections": []
    },
    "kernelspec": {
      "name": "python3",
      "display_name": "Python 3"
    },
    "accelerator": "GPU"
  },
  "cells": [
    {
      "cell_type": "code",
      "metadata": {
        "id": "qCtQ_A_gvZaP",
        "colab_type": "code",
        "colab": {
          "base_uri": "https://localhost:8080/",
          "height": 118
        },
        "outputId": "bfd4c672-decb-4eba-f2e7-b93f6db75772"
      },
      "source": [
        "from google.colab import drive\n",
        "drive.mount('/content/mydrive')\n"
      ],
      "execution_count": 3,
      "outputs": [
        {
          "output_type": "stream",
          "text": [
            "Go to this URL in a browser: https://accounts.google.com/o/oauth2/auth?client_id=947318989803-6bn6qk8qdgf4n4g3pfee6491hc0brc4i.apps.googleusercontent.com&redirect_uri=urn%3aietf%3awg%3aoauth%3a2.0%3aoob&response_type=code&scope=email%20https%3a%2f%2fwww.googleapis.com%2fauth%2fdocs.test%20https%3a%2f%2fwww.googleapis.com%2fauth%2fdrive%20https%3a%2f%2fwww.googleapis.com%2fauth%2fdrive.photos.readonly%20https%3a%2f%2fwww.googleapis.com%2fauth%2fpeopleapi.readonly\n",
            "\n",
            "Enter your authorization code:\n",
            "··········\n",
            "Mounted at /content/mydrive\n"
          ],
          "name": "stdout"
        }
      ]
    },
    {
      "cell_type": "code",
      "metadata": {
        "id": "hM-QeSwGxoLN",
        "colab_type": "code",
        "colab": {}
      },
      "source": [
        "# Imports\n",
        "\n",
        "from imutils import paths\n",
        "import os\n",
        "from tensorflow.keras.applications.mobilenet_v2 import preprocess_input\n",
        "from tensorflow.keras.preprocessing.image import img_to_array\n",
        "from tensorflow.keras.preprocessing.image import load_img\n",
        "from tqdm import tqdm\n",
        "from sklearn.preprocessing import LabelBinarizer\n",
        "from tensorflow.keras.utils import to_categorical\n",
        "from sklearn.model_selection import train_test_split\n",
        "from sklearn.metrics import classification_report\n",
        "from tensorflow.keras.preprocessing.image import ImageDataGenerator\n",
        "import numpy as np\n",
        "from tensorflow.keras.applications import MobileNetV2\n",
        "from tensorflow.keras.layers import AveragePooling2D\n",
        "from tensorflow.keras.layers import Dropout\n",
        "from tensorflow.keras.layers import Flatten\n",
        "from tensorflow.keras.layers import Dense\n",
        "from tensorflow.keras.layers import Input\n",
        "from tensorflow.keras.models import Model\n",
        "from tensorflow.keras.optimizers import Adam\n"
      ],
      "execution_count": 0,
      "outputs": []
    },
    {
      "cell_type": "code",
      "metadata": {
        "id": "eI7vCRCixUUm",
        "colab_type": "code",
        "colab": {}
      },
      "source": [
        "# Constants\n",
        "\n",
        "DATA_PATH = '/content/mydrive/My Drive/mask_dataset'"
      ],
      "execution_count": 0,
      "outputs": []
    },
    {
      "cell_type": "code",
      "metadata": {
        "id": "9fc4YUJ0tD1m",
        "colab_type": "code",
        "colab": {}
      },
      "source": [
        "# Hyper parameters space\n",
        "\n",
        "INIT_LR = 1e-4\n",
        "EPOCHS = 20\n",
        "BS = 32"
      ],
      "execution_count": 0,
      "outputs": []
    },
    {
      "cell_type": "code",
      "metadata": {
        "id": "xu2YTeKztuMK",
        "colab_type": "code",
        "colab": {
          "base_uri": "https://localhost:8080/",
          "height": 50
        },
        "outputId": "d93714c1-9d07-4bbc-b214-9dd8957d4b50"
      },
      "source": [
        "print(\"[INFO] Loading the images\")\n",
        "data = []\n",
        "labels = []\n",
        "\n",
        "imagePaths = list(paths.list_images(DATA_PATH))\n",
        "\n",
        "# loop over the image paths\n",
        "for imagePath in tqdm(imagePaths):\n",
        "    # extract the class label from the filename\n",
        "    label = imagePath.split(os.path.sep)[-2]\n",
        "    # load the input image (224x224) and preprocess it\n",
        "    image = load_img(imagePath, target_size=(224, 224))\n",
        "    image = img_to_array(image)\n",
        "    image = preprocess_input(image)\n",
        "    # update the data and labels lists, respectively\n",
        "    data.append(image)\n",
        "    labels.append(label)\n",
        "# convert the data and labels to NumPy arrays\n",
        "data = np.array(data, dtype=\"float32\")\n",
        "labels = np.array(labels)\n",
        "\n"
      ],
      "execution_count": 18,
      "outputs": [
        {
          "output_type": "stream",
          "text": [
            "  2%|▏         | 22/1385 [00:00<00:06, 219.32it/s]"
          ],
          "name": "stderr"
        },
        {
          "output_type": "stream",
          "text": [
            "[INFO] Loading the images\n"
          ],
          "name": "stdout"
        },
        {
          "output_type": "stream",
          "text": [
            "100%|██████████| 1385/1385 [00:05<00:00, 236.13it/s]\n"
          ],
          "name": "stderr"
        }
      ]
    },
    {
      "cell_type": "code",
      "metadata": {
        "id": "U5W9SZCPyOTj",
        "colab_type": "code",
        "colab": {}
      },
      "source": [
        "# perform one-hot encoding on the labels\n",
        "lb = LabelBinarizer()\n",
        "labels = lb.fit_transform(labels)\n",
        "labels = to_categorical(labels)\n",
        "# partition the data into training and testing splits using 75% of\n",
        "# the data for training and the remaining 25% for testing\n",
        "(trainX, testX, trainY, testY) = train_test_split(data, labels,\n",
        "\ttest_size=0.20, stratify=labels, random_state=42)\n",
        "# construct the training image generator for data augmentation\n",
        "aug = ImageDataGenerator(\n",
        "\trotation_range=20,\n",
        "\tzoom_range=0.15,\n",
        "\twidth_shift_range=0.2,\n",
        "\theight_shift_range=0.2,\n",
        "\tshear_range=0.15,\n",
        "\thorizontal_flip=True,\n",
        "\tfill_mode=\"nearest\")"
      ],
      "execution_count": 0,
      "outputs": []
    },
    {
      "cell_type": "code",
      "metadata": {
        "id": "aeJSm2_i3hhX",
        "colab_type": "code",
        "colab": {
          "base_uri": "https://localhost:8080/",
          "height": 86
        },
        "outputId": "b3ba7e13-e1bf-4698-a6b5-9b9081b023e2"
      },
      "source": [
        "# Loading the mobilenetv2 architecture\n",
        "\n",
        "baseModel = MobileNetV2(weights=\"imagenet\", include_top=False, input_tensor=Input(shape=(224, 224, 3)))\n",
        "\n",
        "# construct the head of the model that will be placed on top of the\n",
        "# the base model\n",
        "\n",
        "headModel = baseModel.output\n",
        "headModel = AveragePooling2D(pool_size=(7, 7))(headModel)\n",
        "headModel = Flatten(name=\"flatten\")(headModel)\n",
        "headModel = Dense(128, activation=\"relu\")(headModel)\n",
        "headModel = Dropout(0.5)(headModel)\n",
        "headModel = Dense(2, activation=\"softmax\")(headModel)\n",
        "\n",
        "# place the head FC model on top of the base model (this will become\n",
        "# the actual model we will train)\n",
        "model = Model(inputs=baseModel.input, outputs=headModel)\n",
        "\n",
        "\n",
        "# loop over all layers in the base model and freeze them so they will\n",
        "# *not* be updated during the first training process\n",
        "for layer in baseModel.layers:\n",
        "\tlayer.trainable = False"
      ],
      "execution_count": 24,
      "outputs": [
        {
          "output_type": "stream",
          "text": [
            "WARNING:tensorflow:`input_shape` is undefined or non-square, or `rows` is not in [96, 128, 160, 192, 224]. Weights for input shape (224, 224) will be loaded as the default.\n",
            "Downloading data from https://storage.googleapis.com/tensorflow/keras-applications/mobilenet_v2/mobilenet_v2_weights_tf_dim_ordering_tf_kernels_1.0_224_no_top.h5\n",
            "9412608/9406464 [==============================] - 0s 0us/step\n"
          ],
          "name": "stdout"
        }
      ]
    },
    {
      "cell_type": "code",
      "metadata": {
        "id": "nz_1nrkT408o",
        "colab_type": "code",
        "colab": {
          "base_uri": "https://localhost:8080/",
          "height": 700
        },
        "outputId": "4e699314-8ead-42aa-aa86-bdecba69356c"
      },
      "source": [
        "print(\"[INFO] compiling model...\")\n",
        "\n",
        "opt = Adam(lr=INIT_LR, decay=INIT_LR / EPOCHS)\n",
        "\n",
        "model.compile(loss=\"binary_crossentropy\", optimizer=opt, metrics=[\"accuracy\"])\n",
        "# train the head of the network\n",
        "print(\"[INFO] training head...\")\n",
        "\n",
        "H = model.fit(\n",
        "\taug.flow(trainX, trainY, batch_size=BS),\n",
        "\tsteps_per_epoch=len(trainX) // BS,\n",
        "\tvalidation_data=(testX, testY),\n",
        "\tvalidation_steps=len(testX) // BS,\n",
        "\tepochs=EPOCHS)"
      ],
      "execution_count": 25,
      "outputs": [
        {
          "output_type": "stream",
          "text": [
            "[INFO] compiling model...\n",
            "[INFO] training head...\n",
            "Epoch 1/20\n",
            "34/34 [==============================] - 12s 343ms/step - loss: 0.4612 - accuracy: 0.7950 - val_loss: 0.0966 - val_accuracy: 0.9892\n",
            "Epoch 2/20\n",
            "34/34 [==============================] - 10s 307ms/step - loss: 0.1393 - accuracy: 0.9591 - val_loss: 0.0459 - val_accuracy: 0.9892\n",
            "Epoch 3/20\n",
            "34/34 [==============================] - 11s 310ms/step - loss: 0.0891 - accuracy: 0.9740 - val_loss: 0.0359 - val_accuracy: 0.9892\n",
            "Epoch 4/20\n",
            "34/34 [==============================] - 11s 315ms/step - loss: 0.0609 - accuracy: 0.9814 - val_loss: 0.0271 - val_accuracy: 0.9892\n",
            "Epoch 5/20\n",
            "34/34 [==============================] - 11s 310ms/step - loss: 0.0461 - accuracy: 0.9907 - val_loss: 0.0232 - val_accuracy: 0.9892\n",
            "Epoch 6/20\n",
            "34/34 [==============================] - 11s 309ms/step - loss: 0.0431 - accuracy: 0.9879 - val_loss: 0.0197 - val_accuracy: 0.9928\n",
            "Epoch 7/20\n",
            "34/34 [==============================] - 11s 312ms/step - loss: 0.0318 - accuracy: 0.9926 - val_loss: 0.0189 - val_accuracy: 0.9892\n",
            "Epoch 8/20\n",
            "34/34 [==============================] - 11s 314ms/step - loss: 0.0251 - accuracy: 0.9954 - val_loss: 0.0163 - val_accuracy: 0.9928\n",
            "Epoch 9/20\n",
            "34/34 [==============================] - 11s 311ms/step - loss: 0.0319 - accuracy: 0.9916 - val_loss: 0.0163 - val_accuracy: 0.9928\n",
            "Epoch 10/20\n",
            "34/34 [==============================] - 11s 310ms/step - loss: 0.0286 - accuracy: 0.9916 - val_loss: 0.0132 - val_accuracy: 0.9928\n",
            "Epoch 11/20\n",
            "34/34 [==============================] - 10s 308ms/step - loss: 0.0258 - accuracy: 0.9888 - val_loss: 0.0125 - val_accuracy: 0.9928\n",
            "Epoch 12/20\n",
            "34/34 [==============================] - 11s 311ms/step - loss: 0.0282 - accuracy: 0.9907 - val_loss: 0.0112 - val_accuracy: 0.9928\n",
            "Epoch 13/20\n",
            "34/34 [==============================] - 11s 313ms/step - loss: 0.0216 - accuracy: 0.9916 - val_loss: 0.0138 - val_accuracy: 0.9928\n",
            "Epoch 14/20\n",
            "34/34 [==============================] - 10s 308ms/step - loss: 0.0169 - accuracy: 0.9954 - val_loss: 0.0126 - val_accuracy: 0.9928\n",
            "Epoch 15/20\n",
            "34/34 [==============================] - 11s 313ms/step - loss: 0.0205 - accuracy: 0.9954 - val_loss: 0.0123 - val_accuracy: 0.9928\n",
            "Epoch 16/20\n",
            "34/34 [==============================] - 11s 310ms/step - loss: 0.0148 - accuracy: 0.9954 - val_loss: 0.0105 - val_accuracy: 0.9928\n",
            "Epoch 17/20\n",
            "34/34 [==============================] - 11s 312ms/step - loss: 0.0223 - accuracy: 0.9926 - val_loss: 0.0103 - val_accuracy: 0.9928\n",
            "Epoch 18/20\n",
            "34/34 [==============================] - 11s 314ms/step - loss: 0.0086 - accuracy: 0.9991 - val_loss: 0.0117 - val_accuracy: 0.9928\n",
            "Epoch 19/20\n",
            "34/34 [==============================] - 11s 310ms/step - loss: 0.0120 - accuracy: 0.9972 - val_loss: 0.0116 - val_accuracy: 0.9928\n",
            "Epoch 20/20\n",
            "34/34 [==============================] - 11s 311ms/step - loss: 0.0105 - accuracy: 0.9972 - val_loss: 0.0084 - val_accuracy: 0.9964\n"
          ],
          "name": "stdout"
        }
      ]
    },
    {
      "cell_type": "code",
      "metadata": {
        "id": "cqdfVTzb8Lne",
        "colab_type": "code",
        "colab": {
          "base_uri": "https://localhost:8080/",
          "height": 196
        },
        "outputId": "6b7fd899-8371-4176-a554-d519458484ba"
      },
      "source": [
        "# make predictions on the testing set\n",
        "print(\"[INFO] evaluating network...\")\n",
        "predIdxs = model.predict(testX, batch_size=BS)\n",
        "# for each image in the testing set we need to find the index of the\n",
        "# label with corresponding largest predicted probability\n",
        "predIdxs = np.argmax(predIdxs, axis=1)\n",
        "# show a nicely formatted classification report\n",
        "print(classification_report(testY.argmax(axis=1), predIdxs,\n",
        "\ttarget_names=lb.classes_))\n",
        "# serialize the model to disk\n",
        "print(\"[INFO] saving mask detector model...\")\n",
        "model.save('/content/mydrive/My Drive/mask_detector.h5', save_format=\"h5\")"
      ],
      "execution_count": 26,
      "outputs": [
        {
          "output_type": "stream",
          "text": [
            "[INFO] evaluating network...\n",
            "              precision    recall  f1-score   support\n",
            "\n",
            "   with_mask       0.99      1.00      1.00       138\n",
            "without_mask       1.00      0.99      1.00       139\n",
            "\n",
            "    accuracy                           1.00       277\n",
            "   macro avg       1.00      1.00      1.00       277\n",
            "weighted avg       1.00      1.00      1.00       277\n",
            "\n",
            "[INFO] saving mask detector model...\n"
          ],
          "name": "stdout"
        }
      ]
    },
    {
      "cell_type": "code",
      "metadata": {
        "id": "OR9jQqOo9Kab",
        "colab_type": "code",
        "colab": {
          "base_uri": "https://localhost:8080/",
          "height": 316
        },
        "outputId": "dedcd5a8-2094-4dfd-989b-91745300eba1"
      },
      "source": [
        "# plot the training loss and accuracy\n",
        "import matplotlib.pyplot as plt\n",
        "%matplotlib inline\n",
        "N = EPOCHS\n",
        "plt.style.use(\"ggplot\")\n",
        "plt.figure()\n",
        "plt.plot(np.arange(0, N), H.history[\"loss\"], label=\"train_loss\")\n",
        "plt.plot(np.arange(0, N), H.history[\"val_loss\"], label=\"val_loss\")\n",
        "plt.plot(np.arange(0, N), H.history[\"accuracy\"], label=\"train_acc\")\n",
        "plt.plot(np.arange(0, N), H.history[\"val_accuracy\"], label=\"val_acc\")\n",
        "plt.title(\"Training Loss and Accuracy\")\n",
        "plt.xlabel(\"Epoch #\")\n",
        "plt.ylabel(\"Loss/Accuracy\")\n",
        "plt.legend(loc=\"lower left\")\n"
      ],
      "execution_count": 28,
      "outputs": [
        {
          "output_type": "execute_result",
          "data": {
            "text/plain": [
              "<matplotlib.legend.Legend at 0x7faa3c845160>"
            ]
          },
          "metadata": {
            "tags": []
          },
          "execution_count": 28
        },
        {
          "output_type": "display_data",
          "data": {
            "image/png": "[encoded data removed]",
            "text/plain": [
              "<Figure size 432x288 with 1 Axes>"
            ]
          },
          "metadata": {
            "tags": []
          }
        }
      ]
    },
    {
      "cell_type": "code",
      "metadata": {
        "id": "VxHo1xPX9sv1",
        "colab_type": "code",
        "colab": {}
      },
      "source": [
        ""
      ],
      "execution_count": 0,
      "outputs": []
    }
  ]
}